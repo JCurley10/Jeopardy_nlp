{
 "cells": [
  {
   "cell_type": "code",
   "execution_count": 26,
   "metadata": {},
   "outputs": [],
   "source": [
    "import pandas as pd\n",
    "import numpy as np\n",
    "import matplotlib.pyplot as plt\n",
    "\n",
    "from nltk.corpus import stopwords\n",
    "from nltk.tokenize import word_tokenize\n",
    "from nltk import pos_tag\n",
    "\n",
    "\n",
    "from sklearn.feature_extraction.text import CountVectorizer, TfidfVectorizer\n",
    "from sklearn.metrics.pairwise import linear_kernel\n",
    "from sklearn.model_selection import train_test_split\n",
    "import string"
   ]
  },
  {
   "cell_type": "code",
   "execution_count": 61,
   "metadata": {},
   "outputs": [],
   "source": [
    "def clean_columns(df, col):\n",
    "    '''\n",
    "    using a pre-made function \n",
    "    returns a list of the tokenized and stripped of stopwords \n",
    "    '''\n",
    "    text = ' '.join(df[col])\n",
    "    tokens = word_tokenize(text)\n",
    "    # converts the tokens to lower case\n",
    "    tokens = [w.lower() for w in tokens]\n",
    "    # remove punctuation from each word\n",
    "    table = str.maketrans('', '', string.punctuation)\n",
    "    stripped = [w.translate(table) for w in tokens]\n",
    "\n",
    "    words = [word for word in stripped if word.isalnum()]\n",
    "    \n",
    "    # filter out stop words\n",
    "    if col == 'notes':\n",
    "        #TODO: add another set of stopwords for the notes\n",
    "        remove_words = {'final', 'quarterfinal', 'game', 'jeopardy!', 'semifinal', 'round', 'tournament', 'week', 'reunion', 'ultimate', 'night', 'jeopardy', 'night', 'games'}\n",
    "        stopwords_set = (set(stopwords.words('english'))).union(remove_words)\n",
    "    else:\n",
    "        stopwords_set = set(stopwords.words('english'))\n",
    "    words = [w for w in words if not w in stopwords_set]\n",
    "    return words"
   ]
  },
  {
   "cell_type": "code",
   "execution_count": 28,
   "metadata": {},
   "outputs": [],
   "source": [
    "def make_q_and_a_col(df):\n",
    "    \"\"\"\n",
    "    Makes a column that concatenates the strings\n",
    "    from the question and answer columns\n",
    "\n",
    "    Args:\n",
    "        df (Pandas DataFrame): \n",
    "    Returns:\n",
    "        Pandas DataFrame with an additional column\n",
    "    \"\"\"    \n",
    "    df['question_and_answer'] = df[\"question\"] + ' ' + df['answer']\n",
    "    return df\n",
    "\n",
    "def make_q_difficulty_col(df):\n",
    "    conditions = [((df['value']<=600) & (df['daily_double']=='no')), #easy\n",
    "                ((df['daily_double']=='no') & ((df['value']==800) | (df['value']==1200))), #average\n",
    "                ((df['daily_double']== 'yes') & (df['round'] == 1)), #average\n",
    "                ((df['daily_double']=='no') & ((df['value']==1000) | (df['value']>=1600))), #hard\n",
    "                ((df['daily_double']== 'yes') & (df['round'] == 2)), #hard\n",
    "                (df['round'] == 3)] # final jeopardy, hard \n",
    "\n",
    "    difficulties = ['easy', 'average', 'average', 'hard', 'hard', 'hard']\n",
    "\n",
    "    df['question_difficulty'] = np.select(conditions, difficulties)\n",
    "    return df\n",
    "\n",
    "#TODO: write docstring\n",
    "def update_df_columns(df):\n",
    "    \"\"\"[summary]\n",
    "\n",
    "    Args:\n",
    "        df ([type]): [description]\n",
    "\n",
    "    Returns:\n",
    "        [type]: [description]\n",
    "    \"\"\"    \n",
    "    df_new = make_q_and_a_col(df)\n",
    "    df_new = make_q_difficulty_col(df_new)\n",
    "    return df_new"
   ]
  },
  {
   "cell_type": "code",
   "execution_count": 29,
   "metadata": {},
   "outputs": [],
   "source": [
    "def read_tsv(filepath):\n",
    "    \"\"\"Reads in a tsv file\n",
    "\n",
    "    Args:\n",
    "        filepath (string): filepath and file name of the \n",
    "            tsv file to be read into as a pandas dataframe\n",
    "    Returns:\n",
    "        Pandas DataFrame\n",
    "    \"\"\"    \n",
    "    return pd.read_csv(filepath, sep = \"\\t\")\n",
    "\n"
   ]
  },
  {
   "cell_type": "code",
   "execution_count": 30,
   "metadata": {},
   "outputs": [],
   "source": [
    "def make_train_test_sets(df, x_cols, y_col, test_size = .25, random_state = 123):\n",
    "    \"\"\"[summary]\n",
    "\n",
    "    Args:\n",
    "        df ([type]): [description]\n",
    "        x_cols (string or list of strings): the columns to use as training features\n",
    "        y_col (string): the column to use as the target \n",
    "        test_size (float, optional): size of the test set. Defaults to .25.\n",
    "        random_state (int, optional): random state. Defaults to 123.\n",
    "\n",
    "    Returns:\n",
    "        tuple: X_train, X_test, y_train, y_test \n",
    "            X_train and X_test are either\n",
    "            Pandas DataFrame if >1 columns are passed as features, \n",
    "            or Series object if 1 column is passed\n",
    "            y_train, y_test are Series objects\n",
    "            \n",
    "    \"\"\"    \n",
    "    X = df[x_cols]\n",
    "    y = df[y_col]\n",
    "    X_train, X_test, y_train, y_test = train_test_split(\n",
    "         X, y, test_size=0.33, random_state=42)\n",
    "\n",
    "    return X_train, X_test, y_train, y_test"
   ]
  },
  {
   "cell_type": "code",
   "execution_count": 31,
   "metadata": {},
   "outputs": [],
   "source": [
    "def build_text_vectorizer(X_train):\n",
    "    \"\"\"[summary]\n",
    "    Args:\n",
    "        text (string or series): the text that will be fit to the \n",
    "                text_vectorizer whose words will be counted \n",
    "        use_tfidf (bool, optional): . Defaults to True.\n",
    "        stop_words (string, optional). Defaults to 'english'\n",
    "        use_stemmer (bool, optional): [description]. Defaults to False.\n",
    "        max_features ([type], optional): [description]. Defaults to None.\n",
    "    Returns:\n",
    "    the a list of strings that are the words that appear in the text\n",
    "    \"\"\"       \n",
    "#   count_vect = CountVectorizer()\n",
    "    count_vect = CountVectorizer(ngram_range = (1, 2), \n",
    "                            lowercase=True, tokenizer=None, \n",
    "                            stop_words='english', analyzer='word',  \n",
    "                            max_features=None)\n",
    "    x_train_vectors = count_vect.fit_transform(X_train)\n",
    "    # print count_vect.vocabulary_\n",
    "    return x_train_vectors"
   ]
  },
  {
   "cell_type": "code",
   "execution_count": 80,
   "metadata": {},
   "outputs": [],
   "source": [
    "#read in the dataset and build the training and testing on regular episodes \n",
    "\n",
    "jeopardy = read_tsv('../data/master_season1-35.tsv')\n",
    "jeopardy_df = update_df_columns(jeopardy)\n",
    "regular_episodes = jeopardy_df[jeopardy_df['notes']=='-']\n",
    "special_tournament = jeopardy_df.drop(regular_episodes.index)\n",
    "regular_episodes\n",
    "\n",
    "x_cols = 'question_and_answer'\n",
    "y_col = 'question_difficulty'\n",
    "X_train, X_test, y_train, y_test = make_train_test_sets(regular_episodes, x_cols, y_col, test_size = .25, random_state = 123)\n",
    "\n",
    "X_train_sample = X_train.sample(frac = .1, axis = 0, random_state = 123)"
   ]
  },
  {
   "cell_type": "markdown",
   "metadata": {},
   "source": [
    "## KMEANS"
   ]
  },
  {
   "cell_type": "code",
   "execution_count": 91,
   "metadata": {},
   "outputs": [],
   "source": [
    "#fit and transofrm the x_train, transofrm the x_test\n",
    "count_vect = CountVectorizer(ngram_range = (1, 1), \n",
    "                            lowercase=True,  tokenizer=None, \n",
    "                            stop_words='english', analyzer='word',  \n",
    "                            max_features=None)\n",
    "\n",
    "x = count_vect.fit_transform(X_train_sample)\n",
    "# x.toarray()\n",
    "features = count_vect.get_feature_names()\n",
    "# count_vect.vocabulary_"
   ]
  },
  {
   "cell_type": "code",
   "execution_count": 92,
   "metadata": {},
   "outputs": [],
   "source": [
    "from sklearn.cluster import KMeans\n",
    "kmeans = KMeans(n_clusters = 10, random_state = 123).fit(x)"
   ]
  },
  {
   "cell_type": "code",
   "execution_count": 93,
   "metadata": {
    "scrolled": true
   },
   "outputs": [
    {
     "data": {
      "text/plain": [
       "array([[26406, 10887, 16402, 14955,   327, 29538,  7375,  4099, 31199,\n",
       "           22],\n",
       "       [ 6248,  7355, 19421, 17641,  5130, 19698, 16845, 11074, 29538,\n",
       "        15426],\n",
       "       [  665, 18441, 27423, 24796, 15433, 31162, 29736, 16128, 11975,\n",
       "        28739],\n",
       "       [20004, 28791,  2824, 31281,  3268, 28091,  5850, 22823, 16895,\n",
       "        28596],\n",
       "       [29898, 16044, 29538, 31199,  3697,  6248,  5130,  3721, 19421,\n",
       "        17562],\n",
       "       [22429, 30195, 17641,  7355, 15426, 15298, 24796,  9742, 20248,\n",
       "        24470],\n",
       "       [30574,  6250, 31218,  3338, 14442, 24070, 26770, 21217, 31401,\n",
       "         1920],\n",
       "       [28412, 20308, 31199, 31396, 16845, 16728, 29538, 26292, 11675,\n",
       "        17641],\n",
       "       [19505, 16322, 15426,  2093,  4694, 14131,  5197,  6299,  3577,\n",
       "         4068],\n",
       "       [27159,  6248, 19698,  5291, 19421,  1669, 19946, 11341, 21011,\n",
       "         5119]])"
      ]
     },
     "execution_count": 93,
     "metadata": {},
     "output_type": "execute_result"
    }
   ],
   "source": [
    "centroids = kmeans.cluster_centers_\n",
    "top_10 = np.argsort(centroids)[:, :-11:-1]\n",
    "top_10"
   ]
  },
  {
   "cell_type": "code",
   "execution_count": 94,
   "metadata": {
    "collapsed": true
   },
   "outputs": [
    {
     "data": {
      "text/plain": [
       "array([['small', 'feet', 'large', 'intestine', '17', 'type', 'court',\n",
       "        'boat', 'word', '10'],\n",
       "       ['city', 'country', 'named', 'man', 'called', 'new', 'like',\n",
       "        'film', 'type', 'john'],\n",
       "       ['2004', 'meryl', 'streep', 'said', 'joined', 'women', 'union',\n",
       "        'kramer', 'games', 'time'],\n",
       "       ['novel', 'title', 'author', 'wrote', 'based', 'tale',\n",
       "        'character', 'published', 'line', 'thomas'],\n",
       "       ['used', 'known', 'type', 'word', 'best', 'city', 'called',\n",
       "        'better', 'named', 'make'],\n",
       "       ['president', 'vice', 'man', 'country', 'john', 'jefferson',\n",
       "        'said', 'elected', 'office', 'roosevelt'],\n",
       "       ['war', 'civil', 'world', 'battle', 'ii', 'revolutionary',\n",
       "        'spanish', 'peace', 'years', 'american'],\n",
       "       ['term', 'old', 'word', 'year', 'like', 'letter', 'type', 'slang',\n",
       "        'french', 'man'],\n",
       "       ['national', 'lampoon', 'john', 'animal', 'brothers', 'house',\n",
       "        'campus', 'classic', 'belushi', 'blues'],\n",
       "       ['state', 'city', 'new', 'capital', 'named', 'alaska', 'north',\n",
       "        'florida', 'park', 'california']], dtype='<U27')"
      ]
     },
     "execution_count": 94,
     "metadata": {},
     "output_type": "execute_result"
    }
   ],
   "source": [
    "names = count_vect.get_feature_names()\n",
    "\n",
    "name_arr = np.array(names)\n",
    "name_arr[top_10]"
   ]
  },
  {
   "cell_type": "markdown",
   "metadata": {},
   "source": [
    "## NEXT STEPS 1\n",
    "- Look at the `modeling with nmf` and case study code\n",
    "- use a tdidf transformer \n",
    "- pass it into an NMF to get out soft clusters\n"
   ]
  },
  {
   "cell_type": "markdown",
   "metadata": {},
   "source": [
    "## NEXT STEPS 2\n",
    "- look at the `clustering` assignments and the pdfs\n",
    "- kmean score\n",
    "- silhouette score\n",
    "- try MiniBatchKMean \n",
    "- heirarchical clustering \n",
    "- change the above work so that instead of index, it's printing the category"
   ]
  },
  {
   "cell_type": "markdown",
   "metadata": {},
   "source": [
    "## NEXT STEPS 3\n",
    "- Read through the naive bayes notes, documentation, asssignments\n",
    "- write a Naive Bayes clasifier to classify easy, hard, average questions\n",
    "- cross validate / score "
   ]
  },
  {
   "cell_type": "markdown",
   "metadata": {},
   "source": [
    "## topics to keep track of\n",
    "\n",
    "- clustering (k-means, heirarchical)\n",
    "- pca \n",
    "- svd\n",
    "- nmf"
   ]
  },
  {
   "cell_type": "code",
   "execution_count": 34,
   "metadata": {},
   "outputs": [
    {
     "data": {
      "text/plain": [
       "<186749x1172622 sparse matrix of type '<class 'numpy.float64'>'\n",
       "\twith 3226460 stored elements in Compressed Sparse Row format>"
      ]
     },
     "execution_count": 34,
     "metadata": {},
     "output_type": "execute_result"
    }
   ],
   "source": [
    "from sklearn.feature_extraction.text import TfidfTransformer\n",
    "\n",
    "# just do term frequency at first, use_idf = False\n",
    "tf_transformer = TfidfTransformer(use_idf=False)\n",
    "tf_transformer.fit(X_train_vectors)\n",
    "X_train_tf = tf_transformer.transform(X_train_vectors)\n",
    "words_tf = X_train_tf\n",
    "words_tf"
   ]
  },
  {
   "cell_type": "code",
   "execution_count": 35,
   "metadata": {},
   "outputs": [],
   "source": []
  },
  {
   "cell_type": "code",
   "execution_count": 44,
   "metadata": {},
   "outputs": [],
   "source": []
  },
  {
   "cell_type": "code",
   "execution_count": null,
   "metadata": {},
   "outputs": [],
   "source": []
  },
  {
   "cell_type": "code",
   "execution_count": null,
   "metadata": {},
   "outputs": [],
   "source": []
  },
  {
   "cell_type": "code",
   "execution_count": null,
   "metadata": {},
   "outputs": [],
   "source": []
  },
  {
   "cell_type": "markdown",
   "metadata": {},
   "source": [
    "### Clustering from case study"
   ]
  },
  {
   "cell_type": "code",
   "execution_count": 37,
   "metadata": {},
   "outputs": [],
   "source": [
    "def get_word_indices(df, col_name):\n",
    "    words = df[col_name].values\n",
    "    count_vect = CountVectorizer(lowercase=True, tokenizer=None, stop_words='english',\n",
    "                             analyzer='word', max_df=1.0, min_df=1,\n",
    "                             max_features=None)\n",
    "    # count_vect = CountVectorizer(ngram_range = (1, 2), use_tfidf=True, lowercase=True, \n",
    "    #                             use_stemmer=False, tokenizer=None, stop_words='english',  \n",
    "    #                             max_features=None)\n",
    "    count_vect.fit(words)\n",
    "    count_vect.transform(words)\n",
    "    return count_vect.vocabulary_ "
   ]
  },
  {
   "cell_type": "code",
   "execution_count": 38,
   "metadata": {},
   "outputs": [],
   "source": [
    "def hand_label_topics(H, vocabulary):\n",
    "    '''\n",
    "    Print the most influential words of each latent topic, and prompt the user\n",
    "    to label each topic. The user should use their humanness to figure out what\n",
    "    each latent topic is capturing.\n",
    "    '''\n",
    "    hand_labels = []\n",
    "    for i, row in enumerate(H):\n",
    "        top_five = np.argsort(row)[::-1][:20]\n",
    "        print('topic', i)\n",
    "        print('-->', ' '.join(vocabulary[top_five]))\n",
    "    return hand_labels\n"
   ]
  },
  {
   "cell_type": "code",
   "execution_count": 66,
   "metadata": {},
   "outputs": [],
   "source": [
    "def get_topics(df, col, num):\n",
    "    '''\n",
    "    col_name (str): input the column name we want to get the latent topics of \n",
    "    num (int): number of topics we want to get\n",
    "    '''\n",
    "    words = df[col].values\n",
    "    vectorizer = TfidfVectorizer(stop_words = 'english', strip_accents = 'ascii', ngram_range=(1, 2), \n",
    "                                 lowercase = True, preprocessor = clean_columns(df, col))\n",
    "    vectorizer.fit_transform(words)\n",
    "    vectorizer.vocabulary_\n",
    "    vocabulary = vectorizer.get_feature_names()\n",
    "    vocabulary = np.array(vocabulary)\n",
    "    \n",
    "\n",
    "    nmf_model = NMF(n_components=num, max_iter=100, random_state=12345, alpha=0.0)\n",
    "    W = nmf_model.fit_transform(words)\n",
    "    H = nmf_model.components_\n",
    "    print('reconstruction error:', nmf_model.reconstruction_err_)\n",
    "\n",
    "    return hand_label_topics(H, vocabulary)"
   ]
  },
  {
   "cell_type": "code",
   "execution_count": null,
   "metadata": {},
   "outputs": [],
   "source": []
  },
  {
   "cell_type": "markdown",
   "metadata": {},
   "source": [
    "## Naive Bayes"
   ]
  },
  {
   "cell_type": "code",
   "execution_count": null,
   "metadata": {},
   "outputs": [],
   "source": []
  }
 ],
 "metadata": {
  "kernelspec": {
   "display_name": "Python 3",
   "language": "python",
   "name": "python3"
  },
  "language_info": {
   "codemirror_mode": {
    "name": "ipython",
    "version": 3
   },
   "file_extension": ".py",
   "mimetype": "text/x-python",
   "name": "python",
   "nbconvert_exporter": "python",
   "pygments_lexer": "ipython3",
   "version": "3.7.9"
  }
 },
 "nbformat": 4,
 "nbformat_minor": 4
}
