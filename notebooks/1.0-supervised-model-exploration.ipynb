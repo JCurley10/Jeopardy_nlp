{
 "cells": [
  {
   "cell_type": "code",
   "execution_count": 26,
   "metadata": {},
   "outputs": [],
   "source": [
    "import pandas as pd\n",
    "import numpy as np\n",
    "import matplotlib.pyplot as plt\n",
    "\n",
    "from nltk.corpus import stopwords\n",
    "from nltk.tokenize import word_tokenize\n",
    "from nltk import pos_tag\n",
    "\n",
    "from sklearn.feature_extraction.text import CountVectorizer, TfidfVectorizer\n",
    "from sklearn.metrics.pairwise import linear_kernel\n",
    "from sklearn.model_selection import train_test_split\n",
    "import string"
   ]
  },
  {
   "cell_type": "code",
   "execution_count": 27,
   "metadata": {},
   "outputs": [],
   "source": [
    "def clean_columns(df, col):\n",
    "    '''\n",
    "    using a pre-made function \n",
    "    returns a list of the tokenized and stripped of stopwords \n",
    "    '''\n",
    "    text = ' '.join(df[col])\n",
    "    tokens = word_tokenize(text)\n",
    "    # converts the tokens to lower case\n",
    "    tokens = [w.lower() for w in tokens]\n",
    "    # remove punctuation from each word\n",
    "    table = str.maketrans('', '', string.punctuation)\n",
    "    stripped = [w.translate(table) for w in tokens]\n",
    "\n",
    "    words = [word for word in stripped if word.isalpha()]\n",
    "    \n",
    "    # filter out stop words\n",
    "    if col == 'notes':\n",
    "        #TODO: add another set of stopwords for the notes\n",
    "        remove_words = {'final', 'quarterfinal', 'game', 'jeopardy!', 'semifinal', 'round', 'tournament', 'week', 'reunion', 'ultimate', 'night', 'jeopardy', 'night', 'games'}\n",
    "        stopwords_set = (set(stopwords.words('english'))).union(remove_words)\n",
    "    else:\n",
    "        stopwords_set = set(stopwords.words('english'))\n",
    "    words = [w for w in words if not w in stopwords_set]\n",
    "    return words"
   ]
  },
  {
   "cell_type": "code",
   "execution_count": 18,
   "metadata": {},
   "outputs": [],
   "source": [
    "def make_q_and_a_col(df):\n",
    "    \"\"\"\n",
    "    Makes a column that concatenates the strings\n",
    "    from the question and answer columns\n",
    "\n",
    "    Args:\n",
    "        df (Pandas DataFrame): \n",
    "    Returns:\n",
    "        Pandas DataFrame with an additional column\n",
    "    \"\"\"    \n",
    "    df['question_and_answer'] = df[\"question\"] + ' ' + df['answer']\n",
    "    return df\n",
    "\n",
    "def make_q_difficulty_col(df):\n",
    "    conditions = [((df['value']<=600) & (df['daily_double']=='no')), #easy\n",
    "                ((df['daily_double']=='no') & ((df['value']==800) | (df['value']==1200))), #average\n",
    "                ((df['daily_double']== 'yes') & (df['round'] == 1)), #average\n",
    "                ((df['daily_double']=='no') & ((df['value']==1000) | (df['value']>=1600))), #hard\n",
    "                ((df['daily_double']== 'yes') & (df['round'] == 2)), #hard\n",
    "                (df['round'] == 3)] # final jeopardy, hard \n",
    "\n",
    "    difficulties = ['easy', 'average', 'average', 'hard', 'hard', 'hard']\n",
    "\n",
    "    df['question_difficulty'] = np.select(conditions, difficulties)\n",
    "    return df\n",
    "\n",
    "#TODO: write docstring\n",
    "def update_df_columns(df):\n",
    "    \"\"\"[summary]\n",
    "\n",
    "    Args:\n",
    "        df ([type]): [description]\n",
    "\n",
    "    Returns:\n",
    "        [type]: [description]\n",
    "    \"\"\"    \n",
    "    df_new = make_q_and_a_col(df)\n",
    "    df_new = make_q_difficulty_col(df_new)\n",
    "    return df_new"
   ]
  },
  {
   "cell_type": "code",
   "execution_count": 3,
   "metadata": {},
   "outputs": [],
   "source": [
    "def read_tsv(filepath):\n",
    "    \"\"\"Reads in a tsv file\n",
    "\n",
    "    Args:\n",
    "        filepath (string): filepath and file name of the \n",
    "            tsv file to be read into as a pandas dataframe\n",
    "    Returns:\n",
    "        Pandas DataFrame\n",
    "    \"\"\"    \n",
    "    return pd.read_csv(filepath, sep = \"\\t\")\n",
    "\n"
   ]
  },
  {
   "cell_type": "code",
   "execution_count": 21,
   "metadata": {},
   "outputs": [],
   "source": [
    "def make_train_test_sets(df, x_cols, y_col, test_size = .25, random_state = 123):\n",
    "    \"\"\"[summary]\n",
    "\n",
    "    Args:\n",
    "        df ([type]): [description]\n",
    "        x_cols (string or list of strings): the columns to use as training features\n",
    "        y_col (string): the column to use as the target \n",
    "        test_size (float, optional): size of the test set. Defaults to .25.\n",
    "        random_state (int, optional): random state. Defaults to 123.\n",
    "\n",
    "    Returns:\n",
    "        tuple: X_train, X_test, y_train, y_test \n",
    "            X_train and X_test are either\n",
    "            Pandas DataFrame if >1 columns are passed as features, \n",
    "            or Series object if 1 column is passed\n",
    "            y_train, y_test are Series objects\n",
    "            \n",
    "    \"\"\"    \n",
    "    X = df[x_cols]\n",
    "    y = df[y_col]\n",
    "    X_train, X_test, y_train, y_test = train_test_split(\n",
    "         X, y, test_size=0.33, random_state=42)\n",
    "\n",
    "    return X_train, X_test, y_train, y_test"
   ]
  },
  {
   "cell_type": "code",
   "execution_count": 22,
   "metadata": {},
   "outputs": [],
   "source": [
    "def build_text_vectorizer(X_train):\n",
    "    \"\"\"[summary]\n",
    "    Args:\n",
    "        text (string or series): the text that will be fit to the \n",
    "                text_vectorizer whose words will be counted \n",
    "        use_tfidf (bool, optional): . Defaults to True.\n",
    "        stop_words (string, optional). Defaults to 'english'\n",
    "        use_stemmer (bool, optional): [description]. Defaults to False.\n",
    "        max_features ([type], optional): [description]. Defaults to None.\n",
    "    Returns:\n",
    "    the a list of strings that are the words that appear in the text\n",
    "    \"\"\"       \n",
    "#   count_vect = CountVectorizer()\n",
    "    count_vect = CountVectorizer(ngram_range = (1, 2), \n",
    "                            lowercase=True, tokenizer=None, \n",
    "                            stop_words='english', analyzer='word',  \n",
    "                            max_features=None)\n",
    "    x_train_vectors = count_vect.fit_transform(X_train)\n",
    "    # print count_vect.vocabulary_\n",
    "    return x_train_vectors"
   ]
  },
  {
   "cell_type": "code",
   "execution_count": 61,
   "metadata": {},
   "outputs": [],
   "source": [
    "#read in the dataset and build the training and testing on regular episodes \n",
    "\n",
    "jeopardy = read_tsv('../data/master_season1-35.tsv')\n",
    "jeopardy_df = update_df_columns(jeopardy)\n",
    "regular_episodes = jeopardy_df[jeopardy_df['notes']=='-']\n",
    "special_tournament = jeopardy_df.drop(regular_episodes.index)\n",
    "\n",
    "x_cols = 'question_and_answer'\n",
    "y_col = 'question_difficulty'\n",
    "X_train, X_test, y_train, y_test = make_train_test_sets(regular_episodes, x_cols, y_col, test_size = .25, random_state = 123)\n",
    "\n",
    "X_train_sample = X_train.sample(frac = .1, axis = 0, random_state = 123)"
   ]
  },
  {
   "cell_type": "code",
   "execution_count": null,
   "metadata": {},
   "outputs": [],
   "source": []
  },
  {
   "cell_type": "code",
   "execution_count": 65,
   "metadata": {},
   "outputs": [],
   "source": [
    "#fit and transofrm the x_train, transofrm the x_test\n",
    "count_vect = CountVectorizer(ngram_range = (1, 2), \n",
    "                            lowercase=True, tokenizer=None, \n",
    "                            stop_words='english', analyzer='word',  \n",
    "                            max_features=None)\n",
    "\n",
    "X_train_vectors = count_vect.fit_transform(X_train)\n",
    "X_test_vectors = count_vect.transform(X_test)"
   ]
  },
  {
   "cell_type": "code",
   "execution_count": null,
   "metadata": {},
   "outputs": [],
   "source": [
    "from sklearn import svm\n",
    "clf_svm = svm.SVC(kernel = 'linear')\n",
    "clf_svm.fit(X_train_vectors, y_train)\n",
    "clf_svm.predict(X_test_vectors)"
   ]
  },
  {
   "cell_type": "code",
   "execution_count": null,
   "metadata": {},
   "outputs": [],
   "source": []
  },
  {
   "cell_type": "code",
   "execution_count": 3,
   "metadata": {},
   "outputs": [],
   "source": []
  },
  {
   "cell_type": "code",
   "execution_count": null,
   "metadata": {},
   "outputs": [],
   "source": []
  },
  {
   "cell_type": "code",
   "execution_count": null,
   "metadata": {},
   "outputs": [],
   "source": []
  },
  {
   "cell_type": "code",
   "execution_count": null,
   "metadata": {},
   "outputs": [],
   "source": []
  }
 ],
 "metadata": {
  "kernelspec": {
   "display_name": "Python 3",
   "language": "python",
   "name": "python3"
  },
  "language_info": {
   "codemirror_mode": {
    "name": "ipython",
    "version": 3
   },
   "file_extension": ".py",
   "mimetype": "text/x-python",
   "name": "python",
   "nbconvert_exporter": "python",
   "pygments_lexer": "ipython3",
   "version": "3.7.9"
  }
 },
 "nbformat": 4,
 "nbformat_minor": 4
}
